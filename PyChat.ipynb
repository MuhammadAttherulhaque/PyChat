{
 "cells": [
  {
   "cell_type": "code",
   "execution_count": 10,
   "metadata": {},
   "outputs": [
    {
     "name": "stdout",
     "output_type": "stream",
     "text": [
      "Quastion: sun\n",
      "distance from Earth | 1.017 au\n",
      "8.456 light minutes\n",
      "apparent magnitude | -26.72 (visible to the naked eye in daylight)\n",
      "absolute magnitude | +4.8 (visual)\n",
      "spectral class | G2V (main sequence)\n",
      "effective temperature | 5772 K\n",
      "mass | 1.988435×10^30 kg\n",
      "332900 M_ earth \n",
      "age | 4.57 billion yr\n",
      "main sequence lifetime | 10 billion yr\n",
      "end state | carbon-oxygen white dwarf\n"
     ]
    }
   ],
   "source": [
    "# wolframalpha\n",
    "import wolframalpha\n",
    "inp = input(\"Quastion: \")\n",
    "app_id = \"8UUUVQ-QLHRHJTR3J\"\n",
    "client = wolframalpha.Client(app_id)\n",
    "\n",
    "res = client.query(inp)\n",
    "answer = next(res.results).text\n",
    "\n",
    "print(answer)"
   ]
  },
  {
   "cell_type": "code",
   "execution_count": 1,
   "metadata": {},
   "outputs": [
    {
     "name": "stdout",
     "output_type": "stream",
     "text": [
      "Quastion: cat\n",
      "The cat (Felis catus) is a domestic species of small carnivorous mammal. It is the only domesticated species in the family Felidae and is often referred to as the domestic cat to distinguish it from the wild members of the family. A cat can either be a house cat, a farm cat or a feral cat; the latter ranges freely and avoids human contact. Domestic cats are valued by humans for companionship and their ability to hunt rodents. About 60 cat breeds are recognized by various cat registries.The cat is similar in anatomy to the other felid species: it has a strong flexible body, quick reflexes, sharp teeth and retractable claws adapted to killing small prey. Its night vision and sense of smell are well developed. Cat communication includes vocalizations like meowing, purring, trilling, hissing, growling and grunting as well as cat-specific body language. It is a solitary hunter but a social species. It can hear sounds too faint or too high in frequency for human ears, such as those made by mice and other small mammals. It is a predator that is most active at dawn and dusk. It secretes and perceives pheromones.Female domestic cats can have kittens from spring to late autumn, with litter sizes often ranging from two to five kittens. Domestic cats are bred and shown at events as registered pedigreed cats, a hobby known as cat fancy. Failure to control breeding of pet cats by spaying and neutering, as well as abandonment of pets, resulted in large numbers of feral cats worldwide, contributing to the extinction of entire bird, mammal, and reptile species, and evoking population control.Cats were first domesticated in the Near East around 7500 BC. It was long thought that cat domestication was initiated in Ancient Egypt, as since around 3100 BC veneration was given to cats in ancient Egypt.As of 2017, the domestic cat was the second-most popular pet in the United States by number of pets owned, after freshwater fish, with 95 million cats owned. In the United Kingdom, around 7.3 million cats lived in more than 4.8 million households as of 2019.\n",
      "\n",
      "\n"
     ]
    }
   ],
   "source": [
    "# wikipedia\n",
    "import wikipedia\n",
    "inp = input(\"Quastion: \")\n",
    "#language selection \n",
    "wikipedia.set_lang(\"en\") \n",
    "#sentance limit   print(wikipedia.summary(inp,sentences=4))\n",
    "print(wikipedia.summary(inp))"
   ]
  },
  {
   "cell_type": "code",
   "execution_count": null,
   "metadata": {},
   "outputs": [
    {
     "name": "stdout",
     "output_type": "stream",
     "text": [
      "Question: X^2+2x=-4\n",
      "X = -sqrt(2) sqrt(-x - 2)\n",
      "Question: a\n",
      "A or a is the first letter and the first vowel letter of the modern English alphabet and the ISO basic Latin alphabet. Its name in English is a (pronounced ), plural aes. It is similar in shape to the Ancient Greek letter alpha, from which it derives.  The uppercase version consists of the two slanting sides of a triangle, crossed in the middle by a horizontal bar. The lowercase version can be written in two forms: the double-storey a and single-storey ɑ. The latter is commonly used in handwriting and fonts based on it, especially fonts intended to be read by children, and is also found in italic type.\n",
      "In the English grammar, \"a\", and its variant \"an\", are indefinite articles.\n"
     ]
    }
   ],
   "source": [
    "import wolframalpha\n",
    "import wikipedia\n",
    "\n",
    "while True:\n",
    "    inp= input(\"Question: \")\n",
    "    try:\n",
    "        #wfaAPI\n",
    "        app_id = \"8UUUVQ-QLHRHJTR3J\"\n",
    "        client = wolframalpha.Client(app_id)\n",
    "        res = client.query(inp)\n",
    "        answer = next(res.results).text\n",
    "        print(answer)\n",
    "    \n",
    "    except:\n",
    "        #wiki\n",
    "        print(wikipedia.summary(inp))\n",
    "        \n"
   ]
  },
  {
   "cell_type": "code",
   "execution_count": 2,
   "metadata": {},
   "outputs": [],
   "source": [
    "import wx\n"
   ]
  },
  {
   "cell_type": "code",
   "execution_count": null,
   "metadata": {},
   "outputs": [],
   "source": []
  }
 ],
 "metadata": {
  "kernelspec": {
   "display_name": "Python 3",
   "language": "python",
   "name": "python3"
  },
  "language_info": {
   "codemirror_mode": {
    "name": "ipython",
    "version": 3
   },
   "file_extension": ".py",
   "mimetype": "text/x-python",
   "name": "python",
   "nbconvert_exporter": "python",
   "pygments_lexer": "ipython3",
   "version": "3.7.3"
  }
 },
 "nbformat": 4,
 "nbformat_minor": 2
}
