{
 "cells": [
  {
   "cell_type": "code",
   "execution_count": 3,
   "metadata": {},
   "outputs": [
    {
     "ename": "SyntaxError",
     "evalue": "invalid syntax (<ipython-input-3-176bab6b55f8>, line 36)",
     "output_type": "error",
     "traceback": [
      "\u001b[1;36m  File \u001b[1;32m\"<ipython-input-3-176bab6b55f8>\"\u001b[1;36m, line \u001b[1;32m36\u001b[0m\n\u001b[1;33m    print wikipedia.summary(input)\u001b[0m\n\u001b[1;37m                  ^\u001b[0m\n\u001b[1;31mSyntaxError\u001b[0m\u001b[1;31m:\u001b[0m invalid syntax\n"
     ]
    }
   ],
   "source": [
    "import wx\n",
    "import wikipedia\n",
    "import wolframalpha\n",
    "\n",
    "class MyFrame(wx.Frame):\n",
    "    def __init__(self):\n",
    "        wx.Frame.__init__(self, None,\n",
    "            pos=wx.DefaultPosition, size=wx.Size(450, 100),\n",
    "            style=wx.MINIMIZE_BOX | wx.SYSTEM_MENU | wx.CAPTION |\n",
    "             wx.CLOSE_BOX | wx.CLIP_CHILDREN,\n",
    "            title=\"PyChat\")\n",
    "        panel = wx.Panel(self)\n",
    "        my_sizer = wx.BoxSizer(wx.VERTICAL)\n",
    "        lbl = wx.StaticText(panel,\n",
    "        label=\"Hello I am PyChat the Python Digital Assistant. How can I help you?\")\n",
    "        my_sizer.Add(lbl, 0, wx.ALL, 5)\n",
    "        self.txt = wx.TextCtrl(panel, style=wx.TE_PROCESS_ENTER,size=(400,30))\n",
    "        self.txt.SetFocus()\n",
    "        self.txt.Bind(wx.EVT_TEXT_ENTER, self.OnEnter)\n",
    "        my_sizer.Add(self.txt, 0, wx.ALL, 5)\n",
    "        panel.SetSizer(my_sizer)\n",
    "        self.Show()\n",
    "\n",
    "    def OnEnter(self, event):\n",
    "        input = self.txt.GetValue()\n",
    "        input = input.lower()\n",
    "        try:\n",
    "            #wolframalpha\n",
    "            app_id = \"YOUR APP ID\"\n",
    "            client = wolframalpha.Client(app_id)\n",
    "            res = client.query(input)\n",
    "            answer = next(res.results).text\n",
    "            print(answer)\n",
    "        except:\n",
    "            #wikipedia\n",
    "            print wikipedia.summary(input)\n",
    "\n",
    "\n",
    "if __name__ == \"__main__\":\n",
    "    app = wx.App(True)\n",
    "    frame = MyFrame()\n",
    "    app.MainLoop()"
   ]
  },
  {
   "cell_type": "code",
   "execution_count": null,
   "metadata": {},
   "outputs": [],
   "source": []
  }
 ],
 "metadata": {
  "kernelspec": {
   "display_name": "Python 3",
   "language": "python",
   "name": "python3"
  },
  "language_info": {
   "codemirror_mode": {
    "name": "ipython",
    "version": 3
   },
   "file_extension": ".py",
   "mimetype": "text/x-python",
   "name": "python",
   "nbconvert_exporter": "python",
   "pygments_lexer": "ipython3",
   "version": "3.7.3"
  }
 },
 "nbformat": 4,
 "nbformat_minor": 2
}
